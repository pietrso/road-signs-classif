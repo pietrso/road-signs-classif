{
  "cells": [
    {
      "cell_type": "markdown",
      "source": [
        "# Data Import"
      ],
      "metadata": {
        "id": "QkWDqDH2Sry8"
      }
    },
    {
      "cell_type": "code",
      "source": [
        "!pip install wget"
      ],
      "metadata": {
        "colab": {
          "base_uri": "https://localhost:8080/"
        },
        "id": "taJWo4QQRn3r",
        "outputId": "64361107-24f9-41a8-9c45-22875acc49b0"
      },
      "execution_count": 1,
      "outputs": [
        {
          "output_type": "stream",
          "name": "stdout",
          "text": [
            "Collecting wget\n",
            "  Downloading wget-3.2.zip (10 kB)\n",
            "Building wheels for collected packages: wget\n",
            "  Building wheel for wget (setup.py) ... \u001b[?25l\u001b[?25hdone\n",
            "  Created wheel for wget: filename=wget-3.2-py3-none-any.whl size=9675 sha256=da541763b2ed3c4e8e72ba4f9884478e685d0ddae4cfc9ad2316be4ba2be94eb\n",
            "  Stored in directory: /root/.cache/pip/wheels/a1/b6/7c/0e63e34eb06634181c63adacca38b79ff8f35c37e3c13e3c02\n",
            "Successfully built wget\n",
            "Installing collected packages: wget\n",
            "Successfully installed wget-3.2\n"
          ]
        }
      ]
    },
    {
      "cell_type": "code",
      "source": [
        "import wget\n",
        "URL = \"http://www.grip.unina.it/download/guide_TF/sign_detection.zip\"\n",
        "response = wget.download(URL, \"sign_detection.zip\")"
      ],
      "metadata": {
        "id": "s2lml8kSQ3do"
      },
      "execution_count": 2,
      "outputs": []
    },
    {
      "cell_type": "code",
      "source": [
        "import zipfile\n",
        "with zipfile.ZipFile('sign_detection.zip', 'r') as zip_ref:\n",
        "    zip_ref.extractall('/content/')"
      ],
      "metadata": {
        "id": "G1U9z5LLR0qg"
      },
      "execution_count": 3,
      "outputs": []
    },
    {
      "cell_type": "markdown",
      "source": [
        "# Homework"
      ],
      "metadata": {
        "id": "l8QbUT31Su9u"
      }
    },
    {
      "cell_type": "code",
      "execution_count": 4,
      "metadata": {
        "id": "M2BW9BDBQ1FX"
      },
      "outputs": [],
      "source": [
        "import numpy as np\n",
        "import matplotlib.pyplot as plt\n",
        "import skimage.io as io\n",
        "from tensorflow import keras\n",
        "from tensorflow.keras import layers\n",
        "import sign_detection"
      ]
    },
    {
      "cell_type": "code",
      "execution_count": 5,
      "metadata": {
        "scrolled": true,
        "colab": {
          "base_uri": "https://localhost:8080/"
        },
        "id": "yz4LyVg_Q1Fc",
        "outputId": "885f27ba-074b-4399-e16d-3236d76dc8a0"
      },
      "outputs": [
        {
          "output_type": "stream",
          "name": "stderr",
          "text": [
            "train 0: 100%|██████████| 1200/1200 [00:00<00:00, 2149.01it/s]\n",
            "train 1: 100%|██████████| 1200/1200 [00:00<00:00, 2265.48it/s]\n",
            "train 2: 100%|██████████| 1200/1200 [00:00<00:00, 2258.54it/s]\n",
            "valid 0: 100%|██████████| 400/400 [00:00<00:00, 2297.36it/s]\n",
            "valid 1: 100%|██████████| 400/400 [00:00<00:00, 2259.78it/s]\n",
            "valid 2: 100%|██████████| 400/400 [00:00<00:00, 2036.87it/s]\n",
            "test 0: 100%|██████████| 400/400 [00:00<00:00, 2221.98it/s]\n",
            "test 1: 100%|██████████| 400/400 [00:00<00:00, 2304.85it/s]\n",
            "test 2: 100%|██████████| 400/400 [00:00<00:00, 2173.32it/s]\n"
          ]
        }
      ],
      "source": [
        "(x_train,y_train),(x_val,y_val),(x_test,y_test) = sign_detection.load_data()"
      ]
    },
    {
      "cell_type": "code",
      "execution_count": 6,
      "metadata": {
        "colab": {
          "base_uri": "https://localhost:8080/"
        },
        "id": "jlkctNymQ1Fc",
        "outputId": "e0b9e611-259a-4352-ef1e-9c55672f8334"
      },
      "outputs": [
        {
          "output_type": "stream",
          "name": "stdout",
          "text": [
            "Model: \"sequential\"\n",
            "_________________________________________________________________\n",
            " Layer (type)                Output Shape              Param #   \n",
            "=================================================================\n",
            " conv2d (Conv2D)             (None, 32, 32, 8)         224       \n",
            "                                                                 \n",
            " max_pooling2d (MaxPooling2D  (None, 16, 16, 8)        0         \n",
            " )                                                               \n",
            "                                                                 \n",
            " conv2d_1 (Conv2D)           (None, 16, 16, 16)        1168      \n",
            "                                                                 \n",
            " max_pooling2d_1 (MaxPooling  (None, 8, 8, 16)         0         \n",
            " 2D)                                                             \n",
            "                                                                 \n",
            " conv2d_2 (Conv2D)           (None, 8, 8, 32)          4640      \n",
            "                                                                 \n",
            " max_pooling2d_2 (MaxPooling  (None, 4, 4, 32)         0         \n",
            " 2D)                                                             \n",
            "                                                                 \n",
            " flatten (Flatten)           (None, 512)               0         \n",
            "                                                                 \n",
            " dense (Dense)               (None, 512)               262656    \n",
            "                                                                 \n",
            " dense_1 (Dense)             (None, 3)                 1539      \n",
            "                                                                 \n",
            "=================================================================\n",
            "Total params: 270,227\n",
            "Trainable params: 270,227\n",
            "Non-trainable params: 0\n",
            "_________________________________________________________________\n"
          ]
        }
      ],
      "source": [
        "model = keras.models.Sequential() # initialize an empty network\n",
        "layer1 = layers.Conv2D(8, (3,3), padding = 'same', activation = 'relu', input_shape = (32,32,3))\n",
        "model.add(layer1) # adding layer1 to the network\n",
        "layer2 = layers.MaxPooling2D((2,2))\n",
        "model.add(layer2)\n",
        "layer3 = layers.Conv2D(16, (3,3), padding = 'same', activation = 'relu') # valid crops the border, output is lower than input\n",
        "model.add(layer3)\n",
        "layer4 = layers.MaxPooling2D((2,2))\n",
        "model.add(layer4)\n",
        "layer5 = layers.Conv2D(32, (3,3), padding = 'same', activation = 'relu') # valid crops the border, output is lower than input\n",
        "model.add(layer5)\n",
        "layer6 = layers.MaxPooling2D((2,2))\n",
        "model.add(layer6)\n",
        "layer7 = layers.Flatten() # flattens 3D structure into one vector -> 5x5x16 = 400\n",
        "model.add(layer7)\n",
        "layer8 = layers.Dense(512, activation = 'relu')\n",
        "model.add(layer8)\n",
        "layer9 = layers.Dense(3, activation = 'softmax')\n",
        "model.add(layer9)\n",
        "\n",
        "model.summary()"
      ]
    },
    {
      "cell_type": "code",
      "execution_count": 7,
      "metadata": {
        "id": "HK7fku-yQ1Fd"
      },
      "outputs": [],
      "source": [
        "# Keras works with float32 data. So, let us convert images to float, and normalize them so that values are between 0 and 1\n",
        "\n",
        "x_test = np.float32(x_test) / 255.0\n",
        "x_train = np.float32(x_train) / 255.0\n",
        "x_val = np.float32(x_val) / 255.0\n",
        "\n",
        "# Keras works with 4-dimensional matrices. Let us add one additional dimension so that each single image goes from (28x28) to (28,28,1)\n",
        "# x_test = np.expand_dims(x_test, 3)\n",
        "# x_train = np.expand_dims(x_train, 3)\n",
        "# x_val = np.expand_dims(x_val, 3)"
      ]
    },
    {
      "cell_type": "code",
      "execution_count": 8,
      "metadata": {
        "id": "UlWjr7AxQ1Fe"
      },
      "outputs": [],
      "source": [
        "# Keras wants one-hot formatted labels.\n",
        "# Basically, a vector of all 0s except one element which is 1 in correspondence of the index of the class the sample belongs to.\n",
        "# 1 -> [1,0,0]\n",
        "# 2 -> [0,1,0]\n",
        "# 3 -> [0,0,1]\n",
        "\n",
        "y_test = keras.utils.to_categorical(y_test)\n",
        "y_val = keras.utils.to_categorical(y_val)\n",
        "y_train = keras.utils.to_categorical(y_train)"
      ]
    },
    {
      "cell_type": "markdown",
      "source": [
        "### Tuning 'learning_rate' parameter"
      ],
      "metadata": {
        "id": "SvCWfDPOXXg0"
      }
    },
    {
      "cell_type": "code",
      "execution_count": 19,
      "metadata": {
        "colab": {
          "base_uri": "https://localhost:8080/"
        },
        "id": "z65ZNeutQ1Ff",
        "outputId": "e69dba19-97bb-4bf5-81dd-6100477c9e35"
      },
      "outputs": [
        {
          "output_type": "stream",
          "name": "stdout",
          "text": [
            "Learning Rate: 0.001\n",
            "Epoch 1/10\n",
            "360/360 [==============================] - 3s 6ms/step - loss: 8.2398e-04 - accuracy: 1.0000 - val_loss: 0.0095 - val_accuracy: 0.9967\n",
            "Epoch 2/10\n",
            "360/360 [==============================] - 2s 5ms/step - loss: 8.1796e-04 - accuracy: 1.0000 - val_loss: 0.0095 - val_accuracy: 0.9967\n",
            "Epoch 3/10\n",
            "360/360 [==============================] - 2s 6ms/step - loss: 8.1073e-04 - accuracy: 1.0000 - val_loss: 0.0095 - val_accuracy: 0.9967\n",
            "Epoch 4/10\n",
            "360/360 [==============================] - 2s 5ms/step - loss: 8.0451e-04 - accuracy: 1.0000 - val_loss: 0.0095 - val_accuracy: 0.9967\n",
            "Epoch 5/10\n",
            "360/360 [==============================] - 2s 6ms/step - loss: 7.9715e-04 - accuracy: 1.0000 - val_loss: 0.0094 - val_accuracy: 0.9967\n",
            "Epoch 6/10\n",
            "360/360 [==============================] - 2s 6ms/step - loss: 7.9024e-04 - accuracy: 1.0000 - val_loss: 0.0094 - val_accuracy: 0.9967\n",
            "Epoch 7/10\n",
            "360/360 [==============================] - 2s 6ms/step - loss: 7.8485e-04 - accuracy: 1.0000 - val_loss: 0.0094 - val_accuracy: 0.9967\n",
            "Epoch 8/10\n",
            "360/360 [==============================] - 2s 5ms/step - loss: 7.7829e-04 - accuracy: 1.0000 - val_loss: 0.0094 - val_accuracy: 0.9967\n",
            "Epoch 9/10\n",
            "360/360 [==============================] - 2s 6ms/step - loss: 7.7241e-04 - accuracy: 1.0000 - val_loss: 0.0094 - val_accuracy: 0.9967\n",
            "Epoch 10/10\n",
            "360/360 [==============================] - 2s 7ms/step - loss: 7.6659e-04 - accuracy: 1.0000 - val_loss: 0.0095 - val_accuracy: 0.9967\n",
            "Learning Rate: 0.005\n",
            "Epoch 1/10\n",
            "360/360 [==============================] - 3s 7ms/step - loss: 7.6093e-04 - accuracy: 1.0000 - val_loss: 0.0091 - val_accuracy: 0.9967\n",
            "Epoch 2/10\n",
            "360/360 [==============================] - 2s 6ms/step - loss: 7.4372e-04 - accuracy: 1.0000 - val_loss: 0.0094 - val_accuracy: 0.9967\n",
            "Epoch 3/10\n",
            "360/360 [==============================] - 2s 5ms/step - loss: 7.1221e-04 - accuracy: 1.0000 - val_loss: 0.0091 - val_accuracy: 0.9967\n",
            "Epoch 4/10\n",
            "360/360 [==============================] - 2s 5ms/step - loss: 6.9611e-04 - accuracy: 1.0000 - val_loss: 0.0092 - val_accuracy: 0.9967\n",
            "Epoch 5/10\n",
            "360/360 [==============================] - 2s 5ms/step - loss: 6.6257e-04 - accuracy: 1.0000 - val_loss: 0.0083 - val_accuracy: 0.9967\n",
            "Epoch 6/10\n",
            "360/360 [==============================] - 2s 5ms/step - loss: 6.4095e-04 - accuracy: 1.0000 - val_loss: 0.0096 - val_accuracy: 0.9967\n",
            "Epoch 7/10\n",
            "360/360 [==============================] - 2s 5ms/step - loss: 6.2857e-04 - accuracy: 1.0000 - val_loss: 0.0098 - val_accuracy: 0.9967\n",
            "Epoch 8/10\n",
            "360/360 [==============================] - 2s 6ms/step - loss: 6.0709e-04 - accuracy: 1.0000 - val_loss: 0.0092 - val_accuracy: 0.9967\n",
            "Epoch 9/10\n",
            "360/360 [==============================] - 2s 5ms/step - loss: 5.8801e-04 - accuracy: 1.0000 - val_loss: 0.0083 - val_accuracy: 0.9975\n",
            "Epoch 10/10\n",
            "360/360 [==============================] - 2s 5ms/step - loss: 5.7507e-04 - accuracy: 1.0000 - val_loss: 0.0092 - val_accuracy: 0.9967\n",
            "Learning Rate: 0.01\n",
            "Epoch 1/10\n",
            "360/360 [==============================] - 3s 6ms/step - loss: 5.8270e-04 - accuracy: 1.0000 - val_loss: 0.0080 - val_accuracy: 0.9967\n",
            "Epoch 2/10\n",
            "360/360 [==============================] - 2s 5ms/step - loss: 5.6260e-04 - accuracy: 1.0000 - val_loss: 0.0095 - val_accuracy: 0.9967\n",
            "Epoch 3/10\n",
            "360/360 [==============================] - 2s 5ms/step - loss: 5.1761e-04 - accuracy: 1.0000 - val_loss: 0.0078 - val_accuracy: 0.9975\n",
            "Epoch 4/10\n",
            "360/360 [==============================] - 2s 6ms/step - loss: 4.8252e-04 - accuracy: 1.0000 - val_loss: 0.0078 - val_accuracy: 0.9975\n",
            "Epoch 5/10\n",
            "360/360 [==============================] - 2s 5ms/step - loss: 4.8488e-04 - accuracy: 1.0000 - val_loss: 0.0091 - val_accuracy: 0.9967\n",
            "Epoch 6/10\n",
            "360/360 [==============================] - 2s 7ms/step - loss: 4.4605e-04 - accuracy: 1.0000 - val_loss: 0.0086 - val_accuracy: 0.9967\n",
            "Epoch 7/10\n",
            "360/360 [==============================] - 2s 6ms/step - loss: 4.4763e-04 - accuracy: 1.0000 - val_loss: 0.0089 - val_accuracy: 0.9967\n",
            "Epoch 8/10\n",
            "360/360 [==============================] - 2s 6ms/step - loss: 4.1536e-04 - accuracy: 1.0000 - val_loss: 0.0082 - val_accuracy: 0.9967\n",
            "Epoch 9/10\n",
            "360/360 [==============================] - 2s 6ms/step - loss: 3.7758e-04 - accuracy: 1.0000 - val_loss: 0.0070 - val_accuracy: 0.9975\n",
            "Epoch 10/10\n",
            "360/360 [==============================] - 2s 6ms/step - loss: 3.7047e-04 - accuracy: 1.0000 - val_loss: 0.0076 - val_accuracy: 0.9975\n"
          ]
        }
      ],
      "source": [
        "results = []\n",
        "learning_rates = [0.001, 0.005, 0.01]\n",
        "\n",
        "for lr in learning_rates:\n",
        "  print('Learning Rate: {}'.format(lr))\n",
        "  model.compile(loss = keras.losses.categorical_crossentropy,\n",
        "              optimizer = keras.optimizers.SGD(learning_rate = lr),\n",
        "              metrics = ['accuracy'])\n",
        "\n",
        "  history = model.fit(x = x_train,\n",
        "          y = y_train,\n",
        "          epochs = 10,\n",
        "          batch_size = 10,\n",
        "          validation_data = (x_val, y_val),\n",
        "          verbose = True)\n",
        "  results.append(history.history['val_accuracy'][-1])"
      ]
    },
    {
      "cell_type": "code",
      "source": [
        "plt.figure()\n",
        "plt.plot(learning_rates, results)\n",
        "plt.show()"
      ],
      "metadata": {
        "colab": {
          "base_uri": "https://localhost:8080/",
          "height": 265
        },
        "id": "qVbqLK93S9bP",
        "outputId": "c203faf6-a12c-4188-b30e-36c8a14fcafe"
      },
      "execution_count": 20,
      "outputs": [
        {
          "output_type": "display_data",
          "data": {
            "text/plain": [
              "<Figure size 432x288 with 1 Axes>"
            ],
            "image/png": "[encoded data removed]"
          },
          "metadata": {
            "needs_background": "light"
          }
        }
      ]
    },
    {
      "cell_type": "code",
      "source": [
        "best_learning_rate = 0.01"
      ],
      "metadata": {
        "id": "vz7uuIzWXQ-E"
      },
      "execution_count": 21,
      "outputs": []
    },
    {
      "cell_type": "markdown",
      "source": [
        "### Tuning 'epochs' parameter"
      ],
      "metadata": {
        "id": "BvEmFQTXXbHz"
      }
    },
    {
      "cell_type": "code",
      "source": [
        "results = []\n",
        "epochs_values = [5, 8, 10]\n",
        "\n",
        "for epochs in epochs_values:\n",
        "  print('Epochs: {}'.format(epochs))\n",
        "  model.compile(loss = keras.losses.categorical_crossentropy,\n",
        "              optimizer = keras.optimizers.SGD(learning_rate = best_learning_rate),\n",
        "              metrics = ['accuracy'])\n",
        "\n",
        "  history = model.fit(x = x_train,\n",
        "          y = y_train,\n",
        "          epochs = epochs,\n",
        "          batch_size = 10,\n",
        "          validation_data = (x_val, y_val),\n",
        "          verbose = True)\n",
        "  results.append(history.history['val_accuracy'][-1])"
      ],
      "metadata": {
        "colab": {
          "base_uri": "https://localhost:8080/"
        },
        "id": "-o5Ax-NAXffO",
        "outputId": "d7db0f9d-ec31-46b4-d62f-8060265a3daa"
      },
      "execution_count": 28,
      "outputs": [
        {
          "output_type": "stream",
          "name": "stdout",
          "text": [
            "Epochs: 5\n",
            "Epoch 1/5\n",
            "360/360 [==============================] - 3s 6ms/step - loss: 8.6465e-05 - accuracy: 1.0000 - val_loss: 0.0081 - val_accuracy: 0.9967\n",
            "Epoch 2/5\n",
            "360/360 [==============================] - 2s 7ms/step - loss: 8.5125e-05 - accuracy: 1.0000 - val_loss: 0.0080 - val_accuracy: 0.9967\n",
            "Epoch 3/5\n",
            "360/360 [==============================] - 2s 6ms/step - loss: 8.3632e-05 - accuracy: 1.0000 - val_loss: 0.0081 - val_accuracy: 0.9967\n",
            "Epoch 4/5\n",
            "360/360 [==============================] - 2s 6ms/step - loss: 8.2158e-05 - accuracy: 1.0000 - val_loss: 0.0077 - val_accuracy: 0.9967\n",
            "Epoch 5/5\n",
            "360/360 [==============================] - 2s 6ms/step - loss: 8.0946e-05 - accuracy: 1.0000 - val_loss: 0.0087 - val_accuracy: 0.9967\n",
            "Epochs: 8\n",
            "Epoch 1/8\n",
            "360/360 [==============================] - 3s 6ms/step - loss: 8.0675e-05 - accuracy: 1.0000 - val_loss: 0.0085 - val_accuracy: 0.9967\n",
            "Epoch 2/8\n",
            "360/360 [==============================] - 2s 5ms/step - loss: 7.8946e-05 - accuracy: 1.0000 - val_loss: 0.0076 - val_accuracy: 0.9967\n",
            "Epoch 3/8\n",
            "360/360 [==============================] - 2s 6ms/step - loss: 7.8248e-05 - accuracy: 1.0000 - val_loss: 0.0082 - val_accuracy: 0.9967\n",
            "Epoch 4/8\n",
            "360/360 [==============================] - 2s 6ms/step - loss: 7.7929e-05 - accuracy: 1.0000 - val_loss: 0.0084 - val_accuracy: 0.9967\n",
            "Epoch 5/8\n",
            "360/360 [==============================] - 2s 6ms/step - loss: 7.5661e-05 - accuracy: 1.0000 - val_loss: 0.0084 - val_accuracy: 0.9967\n",
            "Epoch 6/8\n",
            "360/360 [==============================] - 2s 5ms/step - loss: 7.6250e-05 - accuracy: 1.0000 - val_loss: 0.0083 - val_accuracy: 0.9967\n",
            "Epoch 7/8\n",
            "360/360 [==============================] - 2s 6ms/step - loss: 7.4790e-05 - accuracy: 1.0000 - val_loss: 0.0080 - val_accuracy: 0.9967\n",
            "Epoch 8/8\n",
            "360/360 [==============================] - 2s 6ms/step - loss: 7.3158e-05 - accuracy: 1.0000 - val_loss: 0.0079 - val_accuracy: 0.9967\n",
            "Epochs: 10\n",
            "Epoch 1/10\n",
            "360/360 [==============================] - 3s 7ms/step - loss: 7.3066e-05 - accuracy: 1.0000 - val_loss: 0.0084 - val_accuracy: 0.9967\n",
            "Epoch 2/10\n",
            "360/360 [==============================] - 2s 6ms/step - loss: 7.2267e-05 - accuracy: 1.0000 - val_loss: 0.0080 - val_accuracy: 0.9967\n",
            "Epoch 3/10\n",
            "360/360 [==============================] - 2s 6ms/step - loss: 7.0858e-05 - accuracy: 1.0000 - val_loss: 0.0084 - val_accuracy: 0.9967\n",
            "Epoch 4/10\n",
            "360/360 [==============================] - 2s 6ms/step - loss: 7.1367e-05 - accuracy: 1.0000 - val_loss: 0.0085 - val_accuracy: 0.9967\n",
            "Epoch 5/10\n",
            "360/360 [==============================] - 2s 7ms/step - loss: 6.9376e-05 - accuracy: 1.0000 - val_loss: 0.0087 - val_accuracy: 0.9967\n",
            "Epoch 6/10\n",
            "360/360 [==============================] - 2s 5ms/step - loss: 6.9746e-05 - accuracy: 1.0000 - val_loss: 0.0086 - val_accuracy: 0.9967\n",
            "Epoch 7/10\n",
            "360/360 [==============================] - 2s 6ms/step - loss: 6.8087e-05 - accuracy: 1.0000 - val_loss: 0.0083 - val_accuracy: 0.9967\n",
            "Epoch 8/10\n",
            "360/360 [==============================] - 2s 6ms/step - loss: 6.7881e-05 - accuracy: 1.0000 - val_loss: 0.0079 - val_accuracy: 0.9967\n",
            "Epoch 9/10\n",
            "360/360 [==============================] - 2s 6ms/step - loss: 6.6984e-05 - accuracy: 1.0000 - val_loss: 0.0081 - val_accuracy: 0.9967\n",
            "Epoch 10/10\n",
            "360/360 [==============================] - 2s 6ms/step - loss: 6.6089e-05 - accuracy: 1.0000 - val_loss: 0.0086 - val_accuracy: 0.9967\n"
          ]
        }
      ]
    },
    {
      "cell_type": "code",
      "source": [
        "plt.figure()\n",
        "plt.plot(epochs_values, results)\n",
        "plt.show()"
      ],
      "metadata": {
        "colab": {
          "base_uri": "https://localhost:8080/",
          "height": 265
        },
        "id": "qdInmCN_YUpG",
        "outputId": "f1562099-0142-4511-ca4d-09388a684852"
      },
      "execution_count": 29,
      "outputs": [
        {
          "output_type": "display_data",
          "data": {
            "text/plain": [
              "<Figure size 432x288 with 1 Axes>"
            ],
            "image/png": "[encoded data removed]"
          },
          "metadata": {
            "needs_background": "light"
          }
        }
      ]
    },
    {
      "cell_type": "code",
      "source": [
        "best_epochs_value = 5"
      ],
      "metadata": {
        "id": "bUXxdoyhYz0I"
      },
      "execution_count": 30,
      "outputs": []
    },
    {
      "cell_type": "markdown",
      "source": [
        "### Tuning 'batch_size' parameter"
      ],
      "metadata": {
        "id": "2jW58uCaY8f4"
      }
    },
    {
      "cell_type": "code",
      "source": [
        "results = []\n",
        "batch_size_values = [8, 16, 32]\n",
        "\n",
        "for batch_size in batch_size_values:\n",
        "  print('Batch Size: {}'.format(batch_size))\n",
        "  model.compile(loss = keras.losses.categorical_crossentropy,\n",
        "              optimizer = keras.optimizers.SGD(learning_rate = best_learning_rate),\n",
        "              metrics = ['accuracy'])\n",
        "\n",
        "  history = model.fit(x = x_train,\n",
        "          y = y_train,\n",
        "          epochs = best_epochs_value,\n",
        "          batch_size = batch_size,\n",
        "          validation_data = (x_val, y_val),\n",
        "          verbose = True)\n",
        "  results.append(history.history['val_accuracy'][-1])"
      ],
      "metadata": {
        "colab": {
          "base_uri": "https://localhost:8080/"
        },
        "id": "vz04i-VVY_iM",
        "outputId": "429fe998-67b5-4f59-9bfa-6e4331ee5ad7"
      },
      "execution_count": 31,
      "outputs": [
        {
          "output_type": "stream",
          "name": "stdout",
          "text": [
            "Batch Size: 8\n",
            "Epoch 1/5\n",
            "450/450 [==============================] - 3s 7ms/step - loss: 6.6526e-05 - accuracy: 1.0000 - val_loss: 0.0078 - val_accuracy: 0.9967\n",
            "Epoch 2/5\n",
            "450/450 [==============================] - 3s 6ms/step - loss: 6.4750e-05 - accuracy: 1.0000 - val_loss: 0.0080 - val_accuracy: 0.9967\n",
            "Epoch 3/5\n",
            "450/450 [==============================] - 3s 6ms/step - loss: 6.4806e-05 - accuracy: 1.0000 - val_loss: 0.0092 - val_accuracy: 0.9967\n",
            "Epoch 4/5\n",
            "450/450 [==============================] - 3s 7ms/step - loss: 6.4005e-05 - accuracy: 1.0000 - val_loss: 0.0087 - val_accuracy: 0.9967\n",
            "Epoch 5/5\n",
            "450/450 [==============================] - 3s 6ms/step - loss: 6.3537e-05 - accuracy: 1.0000 - val_loss: 0.0089 - val_accuracy: 0.9967\n",
            "Batch Size: 16\n",
            "Epoch 1/5\n",
            "225/225 [==============================] - 2s 7ms/step - loss: 6.1124e-05 - accuracy: 1.0000 - val_loss: 0.0086 - val_accuracy: 0.9967\n",
            "Epoch 2/5\n",
            "225/225 [==============================] - 1s 6ms/step - loss: 6.0791e-05 - accuracy: 1.0000 - val_loss: 0.0085 - val_accuracy: 0.9967\n",
            "Epoch 3/5\n",
            "225/225 [==============================] - 1s 6ms/step - loss: 6.0022e-05 - accuracy: 1.0000 - val_loss: 0.0086 - val_accuracy: 0.9967\n",
            "Epoch 4/5\n",
            "225/225 [==============================] - 2s 8ms/step - loss: 5.9589e-05 - accuracy: 1.0000 - val_loss: 0.0082 - val_accuracy: 0.9967\n",
            "Epoch 5/5\n",
            "225/225 [==============================] - 1s 6ms/step - loss: 5.9492e-05 - accuracy: 1.0000 - val_loss: 0.0081 - val_accuracy: 0.9967\n",
            "Batch Size: 32\n",
            "Epoch 1/5\n",
            "113/113 [==============================] - 2s 9ms/step - loss: 5.8399e-05 - accuracy: 1.0000 - val_loss: 0.0082 - val_accuracy: 0.9967\n",
            "Epoch 2/5\n",
            "113/113 [==============================] - 1s 7ms/step - loss: 5.8311e-05 - accuracy: 1.0000 - val_loss: 0.0083 - val_accuracy: 0.9967\n",
            "Epoch 3/5\n",
            "113/113 [==============================] - 1s 7ms/step - loss: 5.8094e-05 - accuracy: 1.0000 - val_loss: 0.0083 - val_accuracy: 0.9967\n",
            "Epoch 4/5\n",
            "113/113 [==============================] - 1s 7ms/step - loss: 5.7943e-05 - accuracy: 1.0000 - val_loss: 0.0082 - val_accuracy: 0.9967\n",
            "Epoch 5/5\n",
            "113/113 [==============================] - 1s 7ms/step - loss: 5.7650e-05 - accuracy: 1.0000 - val_loss: 0.0082 - val_accuracy: 0.9967\n"
          ]
        }
      ]
    },
    {
      "cell_type": "code",
      "source": [
        "plt.figure()\n",
        "plt.plot(batch_size_values, results)\n",
        "plt.show()"
      ],
      "metadata": {
        "colab": {
          "base_uri": "https://localhost:8080/",
          "height": 265
        },
        "id": "KtNHTUrZZhIH",
        "outputId": "db10c57c-d3b3-4183-c257-1477bca23b88"
      },
      "execution_count": 27,
      "outputs": [
        {
          "output_type": "display_data",
          "data": {
            "text/plain": [
              "<Figure size 432x288 with 1 Axes>"
            ],
            "image/png": "[encoded data removed]"
          },
          "metadata": {
            "needs_background": "light"
          }
        }
      ]
    },
    {
      "cell_type": "code",
      "source": [
        "best_batch_size = 32"
      ],
      "metadata": {
        "id": "SmZsn0-pZlhV"
      },
      "execution_count": 32,
      "outputs": []
    },
    {
      "cell_type": "markdown",
      "source": [
        "### Final Model Training\n",
        "\n"
      ],
      "metadata": {
        "id": "JZilC9FSbj20"
      }
    },
    {
      "cell_type": "code",
      "source": [
        "model.compile(loss = keras.losses.categorical_crossentropy,\n",
        "              optimizer = keras.optimizers.SGD(learning_rate = best_learning_rate), # lr = 0.01\n",
        "              metrics = ['accuracy'])\n",
        "\n",
        "history = model.fit(x = x_train,\n",
        "          y = y_train,\n",
        "          epochs = best_epochs_value, # 5\n",
        "          batch_size = best_batch_size, # 32\n",
        "          validation_data = (x_val, y_val),\n",
        "          verbose = True)"
      ],
      "metadata": {
        "colab": {
          "base_uri": "https://localhost:8080/"
        },
        "id": "cuZeDVydbpur",
        "outputId": "6e3ea873-ccef-4373-d3e4-b5de5a240922"
      },
      "execution_count": 33,
      "outputs": [
        {
          "output_type": "stream",
          "name": "stdout",
          "text": [
            "Epoch 1/5\n",
            "113/113 [==============================] - 2s 9ms/step - loss: 5.7346e-05 - accuracy: 1.0000 - val_loss: 0.0082 - val_accuracy: 0.9967\n",
            "Epoch 2/5\n",
            "113/113 [==============================] - 1s 7ms/step - loss: 5.7379e-05 - accuracy: 1.0000 - val_loss: 0.0082 - val_accuracy: 0.9967\n",
            "Epoch 3/5\n",
            "113/113 [==============================] - 1s 7ms/step - loss: 5.7091e-05 - accuracy: 1.0000 - val_loss: 0.0083 - val_accuracy: 0.9967\n",
            "Epoch 4/5\n",
            "113/113 [==============================] - 1s 7ms/step - loss: 5.7058e-05 - accuracy: 1.0000 - val_loss: 0.0083 - val_accuracy: 0.9967\n",
            "Epoch 5/5\n",
            "113/113 [==============================] - 1s 7ms/step - loss: 5.6860e-05 - accuracy: 1.0000 - val_loss: 0.0082 - val_accuracy: 0.9967\n"
          ]
        }
      ]
    },
    {
      "cell_type": "markdown",
      "source": [
        "### Test Performances"
      ],
      "metadata": {
        "id": "GVrPJkBkb5TV"
      }
    },
    {
      "cell_type": "code",
      "source": [
        "# Now we evaluate model performances on test data. the .evaluate() function returns the loss value and metrics for test data.\n",
        "\n",
        "loss, acc = model.evaluate(x_test, y_test)\n",
        "print(loss, acc)"
      ],
      "metadata": {
        "colab": {
          "base_uri": "https://localhost:8080/"
        },
        "id": "5zag3iobb_A6",
        "outputId": "ba836117-46f4-4cc1-a15f-c29c2ebd1199"
      },
      "execution_count": 34,
      "outputs": [
        {
          "output_type": "stream",
          "name": "stdout",
          "text": [
            "38/38 [==============================] - 0s 4ms/step - loss: 0.0223 - accuracy: 0.9933\n",
            "0.022322503849864006 0.9933333396911621\n"
          ]
        }
      ]
    },
    {
      "cell_type": "code",
      "source": [
        "# Let us take one example to see how the model predicts its class label.\n",
        "\n",
        "id = 100\n",
        "img = x_test[id,:,:,:]\n",
        "x = np.expand_dims(img, 0) # 1x28x28x1\n",
        "p = model.predict(x) # 1x10 vector with probabilities\n",
        "print(p[0,:])\n",
        "\n",
        "plt.figure()\n",
        "plt.subplot(1,2,1)\n",
        "plt.imshow(img, clim = [0,1])\n",
        "plt.subplot(1,2,2)\n",
        "plt.bar(np.arange(3), p[0])\n",
        "plt.show()"
      ],
      "metadata": {
        "colab": {
          "base_uri": "https://localhost:8080/",
          "height": 282
        },
        "id": "viZlw273cFIk",
        "outputId": "eba6d86b-059d-4ed4-a3f4-ee8c3ddf9c36"
      },
      "execution_count": 49,
      "outputs": [
        {
          "output_type": "stream",
          "name": "stdout",
          "text": [
            "[1.0000000e+00 4.0275487e-30 5.4637789e-27]\n"
          ]
        },
        {
          "output_type": "display_data",
          "data": {
            "text/plain": [
              "<Figure size 432x288 with 2 Axes>"
            ],
            "image/png": "[encoded data removed]"
          },
          "metadata": {
            "needs_background": "light"
          }
        }
      ]
    }
  ],
  "metadata": {
    "kernelspec": {
      "display_name": "Python 3",
      "language": "python",
      "name": "python3"
    },
    "language_info": {
      "codemirror_mode": {
        "name": "ipython",
        "version": 3
      },
      "file_extension": ".py",
      "mimetype": "text/x-python",
      "name": "python",
      "nbconvert_exporter": "python",
      "pygments_lexer": "ipython3",
      "version": "3.8.5"
    },
    "colab": {
      "name": "Road Signs.ipynb",
      "provenance": [],
      "collapsed_sections": []
    },
    "accelerator": "GPU"
  },
  "nbformat": 4,
  "nbformat_minor": 0
}